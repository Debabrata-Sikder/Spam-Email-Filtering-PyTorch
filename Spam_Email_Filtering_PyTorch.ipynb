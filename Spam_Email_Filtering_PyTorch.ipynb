{
  "nbformat": 4,
  "nbformat_minor": 0,
  "metadata": {
    "colab": {
      "provenance": []
    },
    "kernelspec": {
      "name": "python3",
      "display_name": "Python 3"
    },
    "language_info": {
      "name": "python"
    }
  },
  "cells": [
    {
      "cell_type": "code",
      "execution_count": 1,
      "metadata": {
        "id": "ZTQmMQ5sk36i"
      },
      "outputs": [],
      "source": [
        "import torch\n",
        "from torch.utils.data import Dataset, DataLoader\n",
        "from sklearn.model_selection import train_test_split\n",
        "import pandas as pd\n",
        "from sklearn.preprocessing import StandardScaler\n",
        "import numpy as np"
      ]
    },
    {
      "cell_type": "code",
      "source": [
        "data_url = \"https://archive.ics.uci.edu/ml/machine-learning-databases/spambase/spambase.data\"\n",
        "data = pd.read_csv(data_url, header=None)\n",
        "X = data.iloc[:, :-1].values\n",
        "y = data.iloc[:, -1].values"
      ],
      "metadata": {
        "id": "8l9BkqRLk_BN"
      },
      "execution_count": 139,
      "outputs": []
    },
    {
      "cell_type": "code",
      "source": [
        "scaler = StandardScaler()\n",
        "X_transformed = scaler.fit_transform(X)\n",
        "\n",
        "X_train, X_test, y_train, y_test = train_test_split(X_transformed, y , test_size=0.25, random_state=42)"
      ],
      "metadata": {
        "id": "9-mQ_I-vlK3x"
      },
      "execution_count": 140,
      "outputs": []
    },
    {
      "cell_type": "code",
      "source": [
        "class EmailDataset(Dataset):\n",
        "    def __init__(self, X, Y):\n",
        "        self.X = X\n",
        "        self.Y = Y\n",
        "\n",
        "    def __len__(self):\n",
        "        return len(self.Y)\n",
        "\n",
        "    def __getitem__(self, index):\n",
        "        return torch.tensor(self.X[index], dtype=torch.float), torch.tensor(self.Y[index], dtype=torch.float)\n",
        "\n",
        "train_dataset = EmailDataset(X_train, y_train)\n",
        "test_dataset = EmailDataset(X_test, y_test)\n",
        "\n",
        "train_loader = DataLoader(train_dataset, batch_size=64, shuffle=True)\n",
        "test_loader = DataLoader(test_dataset, batch_size=64, shuffle=False)"
      ],
      "metadata": {
        "id": "Q6vckLshlRuC"
      },
      "execution_count": 141,
      "outputs": []
    },
    {
      "cell_type": "code",
      "source": [
        "class SpamClassifier(torch.nn.Module):\n",
        "  def __init__(self, input_dim):\n",
        "      super(SpamClassifier, self).__init__()\n",
        "      self.layer = torch.nn.Sequential(\n",
        "          torch.nn.Linear(input_dim, 64),\n",
        "          torch.nn.ReLU(),\n",
        "          torch.nn.Linear(64, 1),\n",
        "          torch.nn.Sigmoid()\n",
        "      )\n",
        "\n",
        "  def forward(self, x):\n",
        "      return self.layer(x).squeeze()"
      ],
      "metadata": {
        "id": "01bJ7ZjnlUAa"
      },
      "execution_count": 142,
      "outputs": []
    },
    {
      "cell_type": "code",
      "source": [
        "model = SpamClassifier(X_train.shape[1])\n",
        "criterion = torch.nn.BCELoss()\n",
        "optimizer = torch.optim.Adam(model.parameters(), lr=0.001)\n",
        "\n",
        "epochs = 50\n",
        "\n",
        "for epoch in range(epochs):\n",
        "    model.train()\n",
        "    for batch_idx, (data, target) in enumerate(train_loader):\n",
        "        optimizer.zero_grad()\n",
        "        outputs = model(data)\n",
        "        loss = criterion(outputs, target)\n",
        "        loss.backward()\n",
        "        optimizer.step()\n",
        "\n",
        "    # Evaluation on Test set\n",
        "    model.eval()\n",
        "    total = 0\n",
        "    correct = 0\n",
        "    with torch.no_grad():\n",
        "        for batch_idx, (data, target) in enumerate(test_loader):\n",
        "            outputs = model(data)\n",
        "            predicted = (outputs > 0.5).float()\n",
        "            total += target.size(0)\n",
        "            correct += (predicted == target).sum().item()\n",
        "    print(f\"Epoch {epoch+1}/{epochs}, Accuracy: {correct/total:.2f}\")\n"
      ],
      "metadata": {
        "id": "Sf7bRlaflYQA"
      },
      "execution_count": null,
      "outputs": []
    },
    {
      "cell_type": "code",
      "source": [
        "def mock_transform(emails, feature_length):\n",
        "    return scaler.transform(np.random.rand(len(emails), feature_length))\n",
        "\n",
        "\n",
        "test_emails = [\n",
        "\n",
        "\"Congratulations! You've won a $1,000 Walmart gift card. Give me your password and user name. Click the link bellow and win the prize! Go to http://bit.ly/123456\"\n",
        "\n",
        "]\n",
        "\n",
        "transformed_emails = mock_transform(test_emails, X_train.shape[1])\n",
        "\n",
        "\n",
        "def predict_spam(emails_transformed, trained_model):\n",
        "    email_tensor = torch.tensor(emails_transformed, dtype=torch.float)\n",
        "    outputs = trained_model(email_tensor).squeeze()\n",
        "    predictions = (outputs > 0.5).float().numpy()\n",
        "    return predictions\n",
        "\n",
        "\n",
        "predictions = predict_spam(transformed_emails, model)\n",
        "\n",
        "if predictions==1:\n",
        "  print('This is a SPAM!')\n",
        "else:\n",
        "  print('This is a HAM.')\n"
      ],
      "metadata": {
        "colab": {
          "base_uri": "https://localhost:8080/"
        },
        "id": "lcKFLZL1nhmm",
        "outputId": "a23d410a-60e0-4c1a-c75d-ed87afa68a95"
      },
      "execution_count": 163,
      "outputs": [
        {
          "output_type": "stream",
          "name": "stdout",
          "text": [
            "This is a HAM.\n"
          ]
        }
      ]
    }
  ]
}